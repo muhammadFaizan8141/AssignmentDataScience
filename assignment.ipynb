{
 "cells": [
  {
   "cell_type": "code",
   "execution_count": null,
   "id": "38980976",
   "metadata": {},
   "outputs": [],
   "source": [
    "print(\"twinkle twinkle little star \")\n",
    "print(\"\\t How I Wonder What You Are \")\n",
    "print(\"\\t\\t Up above the world so high \")\n",
    "print(\"\\t\\t Like a diamond IN the Sky \")\n",
    "print(\"twinkle twinkle little star \")\n",
    "print(\"\\t How I Wonder What You Are \")\n",
    "      "
   ]
  },
  {
   "cell_type": "code",
   "execution_count": null,
   "id": "41464016",
   "metadata": {},
   "outputs": [],
   "source": [
    "import sys \n",
    "print(\"..........python version.........\")\n",
    "print( sys.version)"
   ]
  },
  {
   "cell_type": "code",
   "execution_count": null,
   "id": "1c61659a",
   "metadata": {},
   "outputs": [],
   "source": [
    "print(\".........Area program.........\")\n",
    "\n",
    "print(\"enter the radius of circle\")\n",
    "area=int(input())\n",
    "a=int(3.141)\n",
    "b=area**2\n",
    "c=a*b\n",
    "print(b)"
   ]
  },
  {
   "cell_type": "code",
   "execution_count": null,
   "id": "522b27e9",
   "metadata": {},
   "outputs": [],
   "source": [
    "print(\".........addation program.........\")\n",
    "\n",
    "print(\"enter the first number\")\n",
    "num1=int(input())\n",
    "print(\"enter the 2nd number\")\n",
    "num2=int(input())\n",
    "print(\"sum of two number is \")\n",
    "c=num1+num2\n",
    "print(c)"
   ]
  },
  {
   "cell_type": "code",
   "execution_count": null,
   "id": "a5c7ebfe",
   "metadata": {},
   "outputs": [],
   "source": [
    "print(\".........string reversing  program.........\")\n",
    "a = input(\"enter your first name \\n\")\n",
    "b = input(\"enter your last name\\n\")\n",
    "c = a + b\n",
    "print(\"your full name is :\")\n",
    "print(c)\n",
    "print(\"Reverse of your name is :\")\n",
    "print(c[::-1])"
   ]
  },
  {
   "cell_type": "code",
   "execution_count": null,
   "id": "0d7c618a",
   "metadata": {},
   "outputs": [],
   "source": [
    "import datetime \n",
    "a=datetime.datetime.now()\n",
    "print(\"today time and date is :\" )\n",
    "print(a.strftime(\"%y,%m,%d %H:%M:%S\"))"
   ]
  }
 ],
 "metadata": {
  "kernelspec": {
   "display_name": "Python 3",
   "language": "python",
   "name": "python3"
  },
  "language_info": {
   "codemirror_mode": {
    "name": "ipython",
    "version": 3
   },
   "file_extension": ".py",
   "mimetype": "text/x-python",
   "name": "python",
   "nbconvert_exporter": "python",
   "pygments_lexer": "ipython3",
   "version": "3.8.8"
  }
 },
 "nbformat": 4,
 "nbformat_minor": 5
}
